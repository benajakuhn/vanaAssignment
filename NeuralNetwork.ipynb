{
 "cells": [
  {
   "metadata": {
    "ExecuteTime": {
     "end_time": "2024-10-27T10:36:56.020824Z",
     "start_time": "2024-10-27T10:36:56.012784Z"
    }
   },
   "cell_type": "code",
   "source": "import numpy as np",
   "id": "422c41d813148189",
   "outputs": [],
   "execution_count": 2
  },
  {
   "metadata": {
    "ExecuteTime": {
     "end_time": "2024-10-27T10:36:57.658198Z",
     "start_time": "2024-10-27T10:36:57.642064Z"
    }
   },
   "cell_type": "code",
   "source": [
    "class LinearLayer:\n",
    "    def __init__(self, input_dim, output_dim, learning_rate=0.01):\n",
    "        # Initialize weights and bias\n",
    "        self.W = np.random.rand(input_dim, output_dim)\n",
    "        self.B = np.random.rand(output_dim)\n",
    "        self.learning_rate = learning_rate\n",
    "\n",
    "    def forward(self, X):\n",
    "        # Compute the output: Z = X * W + B\n",
    "        self.X = X\n",
    "        self.Z = X @ self.W + self.B\n",
    "        return self.Z\n",
    "\n",
    "    def backward(self, dL_dZ):\n",
    "        # Compute derivatives for the backward pass\n",
    "        self.dL_dW = self.X.T @ dL_dZ\n",
    "        self.dL_dB = np.sum(dL_dZ, axis=0)\n",
    "        self.dL_dX = dL_dZ @ self.W.T\n",
    "        return self.dL_dX\n",
    "\n",
    "    def update_parameters(self):\n",
    "        # Parameter update: θ_new = θ − α * ∂L/∂θ\n",
    "        self.W -= self.learning_rate * self.dL_dW\n",
    "        self.B -= self.learning_rate * self.dL_dB"
   ],
   "id": "c21a2b2069e38b58",
   "outputs": [],
   "execution_count": 3
  },
  {
   "metadata": {
    "ExecuteTime": {
     "end_time": "2024-10-27T10:37:15.971103Z",
     "start_time": "2024-10-27T10:37:15.963803Z"
    }
   },
   "cell_type": "code",
   "source": [
    "# Unit tests\n",
    "def test_linear_layer():\n",
    "    # Fixed values for inputs, weights, and learning rate\n",
    "    X_test = np.array([[1.0, 2.0], [3.0, 4.0]])\n",
    "    W_test = np.array([[0.5, -0.5], [1.0, -1.0]])\n",
    "    B_test = np.array([0.1, -0.2])\n",
    "    learning_rate = 0.01\n",
    "    dL_dZ_test = np.array([[0.5, -0.5], [0.5, -0.5]])\n",
    "\n",
    "    # Instantiate the layer and set fixed parameters\n",
    "    layer = LinearLayer(input_dim=2, output_dim=2, learning_rate=learning_rate)\n",
    "    layer.W = W_test\n",
    "    layer.B = B_test\n",
    "\n",
    "    # Test forward pass\n",
    "    Z_expected = X_test @ W_test + B_test\n",
    "    Z_output = layer.forward(X_test)\n",
    "    assert np.allclose(Z_output, Z_expected), \"Forward pass error\"\n",
    "\n",
    "    # Test backward pass\n",
    "    dL_dX_expected = dL_dZ_test @ W_test.T\n",
    "    dL_dW_expected = X_test.T @ dL_dZ_test\n",
    "    dL_dB_expected = np.sum(dL_dZ_test, axis=0)\n",
    "    \n",
    "    dL_dX_output = layer.backward(dL_dZ_test)\n",
    "    assert np.allclose(dL_dX_output, dL_dX_expected), \"Backward pass error in dL/dX\"\n",
    "    assert np.allclose(layer.dL_dW, dL_dW_expected), \"Backward pass error in dL/dW\"\n",
    "    assert np.allclose(layer.dL_dB, dL_dB_expected), \"Backward pass error in dL/dB\"\n",
    "\n",
    "    # Test parameter update\n",
    "    W_updated_expected = W_test - learning_rate * dL_dW_expected\n",
    "    B_updated_expected = B_test - learning_rate * dL_dB_expected\n",
    "\n",
    "    layer.update_parameters()\n",
    "    assert np.allclose(layer.W, W_updated_expected), \"Update error in W\"\n",
    "    assert np.allclose(layer.B, B_updated_expected), \"Update error in B\"\n",
    "\n",
    "    print(\"All tests passed!\")\n",
    "\n",
    "# Run tests\n",
    "test_linear_layer()"
   ],
   "id": "3413beda959b54ab",
   "outputs": [
    {
     "name": "stdout",
     "output_type": "stream",
     "text": [
      "All tests passed!\n"
     ]
    }
   ],
   "execution_count": 7
  },
  {
   "cell_type": "code",
   "id": "initial_id",
   "metadata": {
    "collapsed": true,
    "ExecuteTime": {
     "end_time": "2024-10-27T10:37:18.174473Z",
     "start_time": "2024-10-27T10:37:18.156268Z"
    }
   },
   "source": [
    "class NeuralNetwork:\n",
    "    def __init__(self, input_dim, hidden_dim, output_dim, learning_rate=0.01):\n",
    "        self.layer1 = LinearLayer(input_dim, hidden_dim, learning_rate)\n",
    "        self.layer2 = LinearLayer(hidden_dim, hidden_dim, learning_rate)\n",
    "        self.layer3 = LinearLayer(hidden_dim, hidden_dim, learning_rate)\n",
    "        self.output_layer = LinearLayer(hidden_dim, output_dim, learning_rate)\n",
    "\n",
    "    def forward(self, X):\n",
    "        self.Z1 = np.maximum(0, self.layer1.forward(X))  # ReLU activation\n",
    "        self.Z2 = np.maximum(0, self.layer2.forward(self.Z1))  # ReLU activation\n",
    "        self.Z3 = np.maximum(0, self.layer3.forward(self.Z2))  # ReLU activation\n",
    "        self.output = self.softmax(self.output_layer.forward(self.Z3))\n",
    "        return self.output\n",
    "\n",
    "    def backward(self, dL_dY):\n",
    "        dL_dZ3 = self.output_layer.backward(dL_dY)\n",
    "        dL_dZ3[self.Z3 <= 0] = 0\n",
    "        dL_dZ2 = self.layer3.backward(dL_dZ3)\n",
    "        dL_dZ2[self.Z2 <= 0] = 0\n",
    "        dL_dZ1 = self.layer2.backward(dL_dZ2)\n",
    "        dL_dZ1[self.Z1 <= 0] = 0\n",
    "        self.layer1.backward(dL_dZ1)\n",
    "\n",
    "    def update_parameters(self):\n",
    "        self.layer1.update_parameters()\n",
    "        self.layer2.update_parameters()\n",
    "        self.layer3.update_parameters()\n",
    "        self.output_layer.update_parameters()\n",
    "\n",
    "    def softmax(self, Z):\n",
    "        expZ = np.exp(Z - np.max(Z, axis=1, keepdims=True))\n",
    "        return expZ / expZ.sum(axis=1, keepdims=True)\n",
    "\n",
    "    def cross_entropy_loss(self, Y_pred, Y_true):\n",
    "        n_samples = Y_true.shape[0]\n",
    "        log_likelihood = -np.log(Y_pred[range(n_samples), Y_true.argmax(axis=1)])\n",
    "        return np.sum(log_likelihood) / n_samples\n",
    "\n",
    "    def compute_accuracy(self, Y_pred, Y_true):\n",
    "        predictions = np.argmax(Y_pred, axis=1)\n",
    "        labels = np.argmax(Y_true, axis=1)\n",
    "        return np.mean(predictions == labels)\n",
    "\n",
    "# Training Loop\n",
    "def train_network(network, X_train, Y_train, X_test, Y_test, epochs=100, batch_size=32):\n",
    "    for epoch in range(epochs):\n",
    "        # Shuffle the data\n",
    "        indices = np.arange(X_train.shape[0])\n",
    "        np.random.shuffle(indices)\n",
    "        X_train = X_train[indices]\n",
    "        Y_train = Y_train[indices]\n",
    "\n",
    "        # Mini-batch training\n",
    "        for start in range(0, X_train.shape[0], batch_size):\n",
    "            end = start + batch_size\n",
    "            X_batch = X_train[start:end]\n",
    "            Y_batch = Y_train[start:end]\n",
    "\n",
    "            # Forward pass\n",
    "            Y_pred = network.forward(X_batch)\n",
    "\n",
    "            # Compute loss and accuracy\n",
    "            loss = network.cross_entropy_loss(Y_pred, Y_batch)\n",
    "            accuracy = network.compute_accuracy(Y_pred, Y_batch)\n",
    "\n",
    "            # Backward pass and parameter update\n",
    "            dL_dY = Y_pred - Y_batch  # Derivative of loss with respect to predictions\n",
    "            network.backward(dL_dY)\n",
    "            network.update_parameters()\n",
    "\n",
    "        # Evaluate on test data after each epoch\n",
    "        Y_test_pred = network.forward(X_test)\n",
    "        test_loss = network.cross_entropy_loss(Y_test_pred, Y_test)\n",
    "        test_accuracy = network.compute_accuracy(Y_test_pred, Y_test)\n",
    "        print(f\"Epoch {epoch+1}/{epochs} - Loss: {loss:.4f}, Accuracy: {accuracy:.4f}, \"\n",
    "              f\"Test Loss: {test_loss:.4f}, Test Accuracy: {test_accuracy:.4f}\")\n",
    "\n",
    "# Assuming X_train, Y_train, X_test, and Y_test are available\n",
    "input_dim = 784  # For example, 28x28 images flattened\n",
    "hidden_dim = 128\n",
    "output_dim = 10  # 10 classes for digits 0-9\n",
    "learning_rate = 0.01\n",
    "\n",
    "network = NeuralNetwork(input_dim, hidden_dim, output_dim, learning_rate)\n",
    "# Call train_network with training and test data.\n",
    "# train_network(network, X_train, Y_train, X_test, Y_test)\n"
   ],
   "outputs": [],
   "execution_count": 8
  }
 ],
 "metadata": {
  "kernelspec": {
   "display_name": "Python 3",
   "language": "python",
   "name": "python3"
  },
  "language_info": {
   "codemirror_mode": {
    "name": "ipython",
    "version": 2
   },
   "file_extension": ".py",
   "mimetype": "text/x-python",
   "name": "python",
   "nbconvert_exporter": "python",
   "pygments_lexer": "ipython2",
   "version": "2.7.6"
  }
 },
 "nbformat": 4,
 "nbformat_minor": 5
}
