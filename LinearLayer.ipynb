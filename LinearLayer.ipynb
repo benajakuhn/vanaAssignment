{
 "cells": [
  {
   "cell_type": "code",
   "id": "initial_id",
   "metadata": {
    "collapsed": true,
    "ExecuteTime": {
     "end_time": "2024-10-27T10:04:05.898004Z",
     "start_time": "2024-10-27T10:04:05.602349Z"
    }
   },
   "source": [
    "import numpy as np\n",
    "\n",
    "class LinearLayer:\n",
    "    def __init__(self, input_dim, output_dim, learning_rate=0.01):\n",
    "        # Initialize weights and bias\n",
    "        self.W = np.random.rand(input_dim, output_dim)\n",
    "        self.B = np.random.rand(output_dim)\n",
    "        self.learning_rate = learning_rate\n",
    "\n",
    "    def forward(self, X):\n",
    "        # Compute the output: Z = X * W + B\n",
    "        self.X = X\n",
    "        self.Z = X @ self.W + self.B\n",
    "        return self.Z\n",
    "\n",
    "    def backward(self, dL_dZ):\n",
    "        # Compute derivatives for the backward pass\n",
    "        self.dL_dW = self.X.T @ dL_dZ\n",
    "        self.dL_dB = np.sum(dL_dZ, axis=0)\n",
    "        self.dL_dX = dL_dZ @ self.W.T\n",
    "        return self.dL_dX\n",
    "\n",
    "    def update_parameters(self):\n",
    "        # Parameter update: θ_new = θ − α * ∂L/∂θ\n",
    "        self.W -= self.learning_rate * self.dL_dW\n",
    "        self.B -= self.learning_rate * self.dL_dB"
   ],
   "outputs": [],
   "execution_count": 1
  },
  {
   "metadata": {
    "ExecuteTime": {
     "end_time": "2024-10-27T10:04:45.928674Z",
     "start_time": "2024-10-27T10:04:45.854561Z"
    }
   },
   "cell_type": "code",
   "source": [
    "# Unit tests\n",
    "def test_linear_layer():\n",
    "    # Fixed values for inputs, weights, and learning rate\n",
    "    X_test = np.array([[1.0, 2.0], [3.0, 4.0]])\n",
    "    W_test = np.array([[0.5, -0.5], [1.0, -1.0]])\n",
    "    B_test = np.array([0.1, -0.2])\n",
    "    learning_rate = 0.01\n",
    "    dL_dZ_test = np.array([[0.5, -0.5], [0.5, -0.5]])\n",
    "\n",
    "    # Instantiate the layer and set fixed parameters\n",
    "    layer = LinearLayer(input_dim=2, output_dim=2, learning_rate=learning_rate)\n",
    "    layer.W = W_test\n",
    "    layer.B = B_test\n",
    "\n",
    "    # Test forward pass\n",
    "    Z_expected = X_test @ W_test + B_test\n",
    "    Z_output = layer.forward(X_test)\n",
    "    assert np.allclose(Z_output, Z_expected), \"Forward pass error\"\n",
    "\n",
    "    # Test backward pass\n",
    "    dL_dX_expected = dL_dZ_test @ W_test.T\n",
    "    dL_dW_expected = X_test.T @ dL_dZ_test\n",
    "    dL_dB_expected = np.sum(dL_dZ_test, axis=0)\n",
    "    \n",
    "    dL_dX_output = layer.backward(dL_dZ_test)\n",
    "    assert np.allclose(dL_dX_output, dL_dX_expected), \"Backward pass error in dL/dX\"\n",
    "    assert np.allclose(layer.dL_dW, dL_dW_expected), \"Backward pass error in dL/dW\"\n",
    "    assert np.allclose(layer.dL_dB, dL_dB_expected), \"Backward pass error in dL/dB\"\n",
    "\n",
    "    # Test parameter update\n",
    "    W_updated_expected = W_test - learning_rate * dL_dW_expected\n",
    "    B_updated_expected = B_test - learning_rate * dL_dB_expected\n",
    "\n",
    "    layer.update_parameters()\n",
    "    assert np.allclose(layer.W, W_updated_expected), \"Update error in W\"\n",
    "    assert np.allclose(layer.B, B_updated_expected), \"Update error in B\"\n",
    "\n",
    "    print(\"All tests passed!\")\n",
    "\n",
    "# Run tests\n",
    "test_linear_layer()\n"
   ],
   "id": "fb5567a372ae1617",
   "outputs": [
    {
     "name": "stdout",
     "output_type": "stream",
     "text": [
      "All tests passed!\n"
     ]
    }
   ],
   "execution_count": 2
  }
 ],
 "metadata": {
  "kernelspec": {
   "display_name": "Python 3",
   "language": "python",
   "name": "python3"
  },
  "language_info": {
   "codemirror_mode": {
    "name": "ipython",
    "version": 2
   },
   "file_extension": ".py",
   "mimetype": "text/x-python",
   "name": "python",
   "nbconvert_exporter": "python",
   "pygments_lexer": "ipython2",
   "version": "2.7.6"
  }
 },
 "nbformat": 4,
 "nbformat_minor": 5
}
